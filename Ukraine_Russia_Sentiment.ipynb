{
  "nbformat": 4,
  "nbformat_minor": 0,
  "metadata": {
    "colab": {
      "name": "Ukraine_Russia Sentiment.ipynb",
      "provenance": [],
      "authorship_tag": "ABX9TyM2mW/WNdfqOrPB4ViLmId7",
      "include_colab_link": true
    },
    "kernelspec": {
      "name": "python3",
      "display_name": "Python 3"
    },
    "language_info": {
      "name": "python"
    }
  },
  "cells": [
    {
      "cell_type": "markdown",
      "metadata": {
        "id": "view-in-github",
        "colab_type": "text"
      },
      "source": [
        "<a href=\"https://colab.research.google.com/github/Mmbsaksd/Ukraine-Vs-Russia-Sentimental-Analysis/blob/main/Ukraine_Russia_Sentiment.ipynb\" target=\"_parent\"><img src=\"https://colab.research.google.com/assets/colab-badge.svg\" alt=\"Open In Colab\"/></a>"
      ]
    },
    {
      "cell_type": "code",
      "execution_count": 4,
      "metadata": {
        "id": "5awHM_gbCxWm"
      },
      "outputs": [],
      "source": [
        "#Import Required Libraries\n",
        "import pandas as pd\n",
        "import numpy as np\n",
        "import matplotlib.pyplot as plt\n",
        "from nltk.sentiment.vader import SentimentIntensityAnalyzer\n",
        "from wordcloud import wordcloud, STOPWORDS, ImageColorGenerator\n",
        "import nltk\n",
        "import re\n",
        "from nltk.corpus import stopwords\n",
        "import string"
      ]
    },
    {
      "cell_type": "code",
      "source": [
        "#Loading the dataset\n",
        "df = pd.read_csv('/content/filename.csv')\n",
        "print(df.head())"
      ],
      "metadata": {
        "colab": {
          "base_uri": "https://localhost:8080/"
        },
        "id": "eJtESGcjR72b",
        "outputId": "19ac40bb-3a01-4841-ea08-05ef81e0db8c"
      },
      "execution_count": 15,
      "outputs": [
        {
          "output_type": "stream",
          "name": "stdout",
          "text": [
            "                    id      conversation_id               created_at  \\\n",
            "0  1507816096509927428  1507805134541058051  2022-03-26 20:25:45 UTC   \n",
            "1  1507816094475685899  1073469112276398080  2022-03-26 20:25:45 UTC   \n",
            "2  1507816093460545540  1506950291974983684  2022-03-26 20:25:45 UTC   \n",
            "3  1507816091900387328  1507812926148812800  2022-03-26 20:25:44 UTC   \n",
            "4  1507816090751193089  1507813638584811525  2022-03-26 20:25:44 UTC   \n",
            "\n",
            "         date      time  timezone              user_id       username  \\\n",
            "0  2022-03-26  20:25:45         0            200871081         jbrtan   \n",
            "1  2022-03-26  20:25:45         0             82820425  strongbowspub   \n",
            "2  2022-03-26  20:25:45         0   980139160823521280     itsameuhhh   \n",
            "3  2022-03-26  20:25:44         0            605893893         z12z21   \n",
            "4  2022-03-26  20:25:44         0  1486457281193689094        avici_m   \n",
            "\n",
            "            name  place  ... geo source user_rt_id user_rt retweet_id  \\\n",
            "0      joe brtan    NaN  ... NaN    NaN        NaN     NaN        NaN   \n",
            "1  Martin Wesson    NaN  ... NaN    NaN        NaN     NaN        NaN   \n",
            "2          Mayra    NaN  ... NaN    NaN        NaN     NaN        NaN   \n",
            "3   Wharfe Strid    NaN  ... NaN    NaN        NaN     NaN        NaN   \n",
            "4        Avici M    NaN  ... NaN    NaN        NaN     NaN        NaN   \n",
            "\n",
            "                                            reply_to  retweet_date  translate  \\\n",
            "0  [{'screen_name': 'LakotaMan1', 'name': 'Lakota...           NaN        NaN   \n",
            "1  [{'screen_name': 'NKozev', 'name': 'ℕ𝕚𝕜𝕠𝕝𝕒𝕪 𝕂𝕠...           NaN        NaN   \n",
            "2  [{'screen_name': 'Lachmusstest', 'name': 'Voll...           NaN        NaN   \n",
            "3  [{'screen_name': 'CarolineGlick', 'name': 'Car...           NaN        NaN   \n",
            "4                                                 []           NaN        NaN   \n",
            "\n",
            "  trans_src trans_dest  \n",
            "0       NaN        NaN  \n",
            "1       NaN        NaN  \n",
            "2       NaN        NaN  \n",
            "3       NaN        NaN  \n",
            "4       NaN        NaN  \n",
            "\n",
            "[5 rows x 36 columns]\n"
          ]
        }
      ]
    },
    {
      "cell_type": "code",
      "source": [
        "df.columns"
      ],
      "metadata": {
        "colab": {
          "base_uri": "https://localhost:8080/"
        },
        "id": "TeN9DvmwdFFJ",
        "outputId": "3ac62a6d-2afe-46c8-c998-9d0d57cd70ed"
      },
      "execution_count": 16,
      "outputs": [
        {
          "output_type": "execute_result",
          "data": {
            "text/plain": [
              "Index(['id', 'conversation_id', 'created_at', 'date', 'time', 'timezone',\n",
              "       'user_id', 'username', 'name', 'place', 'tweet', 'language', 'mentions',\n",
              "       'urls', 'photos', 'replies_count', 'retweets_count', 'likes_count',\n",
              "       'hashtags', 'cashtags', 'link', 'retweet', 'quote_url', 'video',\n",
              "       'thumbnail', 'near', 'geo', 'source', 'user_rt_id', 'user_rt',\n",
              "       'retweet_id', 'reply_to', 'retweet_date', 'translate', 'trans_src',\n",
              "       'trans_dest'],\n",
              "      dtype='object')"
            ]
          },
          "metadata": {},
          "execution_count": 16
        }
      ]
    },
    {
      "cell_type": "code",
      "source": [
        "#Creating  dataframe with required table\n",
        "df_1 = df[[\"username\",\"tweet\",\"language\"]]\n",
        "df_1.head()"
      ],
      "metadata": {
        "colab": {
          "base_uri": "https://localhost:8080/",
          "height": 206
        },
        "id": "AuAmBJtKdgBX",
        "outputId": "e084c5c6-3444-45a1-a815-e4a08a89b5fa"
      },
      "execution_count": 17,
      "outputs": [
        {
          "output_type": "execute_result",
          "data": {
            "text/plain": [
              "        username                                              tweet language\n",
              "0         jbrtan  @LakotaMan1 @MayoIsSpicyy They've said they'd ...       en\n",
              "1  strongbowspub  @NKozev @TIMGOLDFINCH @UndercoverDane @Shaytan...       en\n",
              "2     itsameuhhh  @Lachmusstest @Romanische0501 @KyivIndependent...       en\n",
              "3         z12z21  @CarolineGlick The White House correction bear...       en\n",
              "4        avici_m  12/Pro tips:   https://t.co/UG7RO0NBO3 attenti...       en"
            ],
            "text/html": [
              "\n",
              "  <div id=\"df-163d31a5-01dd-4f4a-ae5b-4145ba7543f6\">\n",
              "    <div class=\"colab-df-container\">\n",
              "      <div>\n",
              "<style scoped>\n",
              "    .dataframe tbody tr th:only-of-type {\n",
              "        vertical-align: middle;\n",
              "    }\n",
              "\n",
              "    .dataframe tbody tr th {\n",
              "        vertical-align: top;\n",
              "    }\n",
              "\n",
              "    .dataframe thead th {\n",
              "        text-align: right;\n",
              "    }\n",
              "</style>\n",
              "<table border=\"1\" class=\"dataframe\">\n",
              "  <thead>\n",
              "    <tr style=\"text-align: right;\">\n",
              "      <th></th>\n",
              "      <th>username</th>\n",
              "      <th>tweet</th>\n",
              "      <th>language</th>\n",
              "    </tr>\n",
              "  </thead>\n",
              "  <tbody>\n",
              "    <tr>\n",
              "      <th>0</th>\n",
              "      <td>jbrtan</td>\n",
              "      <td>@LakotaMan1 @MayoIsSpicyy They've said they'd ...</td>\n",
              "      <td>en</td>\n",
              "    </tr>\n",
              "    <tr>\n",
              "      <th>1</th>\n",
              "      <td>strongbowspub</td>\n",
              "      <td>@NKozev @TIMGOLDFINCH @UndercoverDane @Shaytan...</td>\n",
              "      <td>en</td>\n",
              "    </tr>\n",
              "    <tr>\n",
              "      <th>2</th>\n",
              "      <td>itsameuhhh</td>\n",
              "      <td>@Lachmusstest @Romanische0501 @KyivIndependent...</td>\n",
              "      <td>en</td>\n",
              "    </tr>\n",
              "    <tr>\n",
              "      <th>3</th>\n",
              "      <td>z12z21</td>\n",
              "      <td>@CarolineGlick The White House correction bear...</td>\n",
              "      <td>en</td>\n",
              "    </tr>\n",
              "    <tr>\n",
              "      <th>4</th>\n",
              "      <td>avici_m</td>\n",
              "      <td>12/Pro tips:   https://t.co/UG7RO0NBO3 attenti...</td>\n",
              "      <td>en</td>\n",
              "    </tr>\n",
              "  </tbody>\n",
              "</table>\n",
              "</div>\n",
              "      <button class=\"colab-df-convert\" onclick=\"convertToInteractive('df-163d31a5-01dd-4f4a-ae5b-4145ba7543f6')\"\n",
              "              title=\"Convert this dataframe to an interactive table.\"\n",
              "              style=\"display:none;\">\n",
              "        \n",
              "  <svg xmlns=\"http://www.w3.org/2000/svg\" height=\"24px\"viewBox=\"0 0 24 24\"\n",
              "       width=\"24px\">\n",
              "    <path d=\"M0 0h24v24H0V0z\" fill=\"none\"/>\n",
              "    <path d=\"M18.56 5.44l.94 2.06.94-2.06 2.06-.94-2.06-.94-.94-2.06-.94 2.06-2.06.94zm-11 1L8.5 8.5l.94-2.06 2.06-.94-2.06-.94L8.5 2.5l-.94 2.06-2.06.94zm10 10l.94 2.06.94-2.06 2.06-.94-2.06-.94-.94-2.06-.94 2.06-2.06.94z\"/><path d=\"M17.41 7.96l-1.37-1.37c-.4-.4-.92-.59-1.43-.59-.52 0-1.04.2-1.43.59L10.3 9.45l-7.72 7.72c-.78.78-.78 2.05 0 2.83L4 21.41c.39.39.9.59 1.41.59.51 0 1.02-.2 1.41-.59l7.78-7.78 2.81-2.81c.8-.78.8-2.07 0-2.86zM5.41 20L4 18.59l7.72-7.72 1.47 1.35L5.41 20z\"/>\n",
              "  </svg>\n",
              "      </button>\n",
              "      \n",
              "  <style>\n",
              "    .colab-df-container {\n",
              "      display:flex;\n",
              "      flex-wrap:wrap;\n",
              "      gap: 12px;\n",
              "    }\n",
              "\n",
              "    .colab-df-convert {\n",
              "      background-color: #E8F0FE;\n",
              "      border: none;\n",
              "      border-radius: 50%;\n",
              "      cursor: pointer;\n",
              "      display: none;\n",
              "      fill: #1967D2;\n",
              "      height: 32px;\n",
              "      padding: 0 0 0 0;\n",
              "      width: 32px;\n",
              "    }\n",
              "\n",
              "    .colab-df-convert:hover {\n",
              "      background-color: #E2EBFA;\n",
              "      box-shadow: 0px 1px 2px rgba(60, 64, 67, 0.3), 0px 1px 3px 1px rgba(60, 64, 67, 0.15);\n",
              "      fill: #174EA6;\n",
              "    }\n",
              "\n",
              "    [theme=dark] .colab-df-convert {\n",
              "      background-color: #3B4455;\n",
              "      fill: #D2E3FC;\n",
              "    }\n",
              "\n",
              "    [theme=dark] .colab-df-convert:hover {\n",
              "      background-color: #434B5C;\n",
              "      box-shadow: 0px 1px 3px 1px rgba(0, 0, 0, 0.15);\n",
              "      filter: drop-shadow(0px 1px 2px rgba(0, 0, 0, 0.3));\n",
              "      fill: #FFFFFF;\n",
              "    }\n",
              "  </style>\n",
              "\n",
              "      <script>\n",
              "        const buttonEl =\n",
              "          document.querySelector('#df-163d31a5-01dd-4f4a-ae5b-4145ba7543f6 button.colab-df-convert');\n",
              "        buttonEl.style.display =\n",
              "          google.colab.kernel.accessAllowed ? 'block' : 'none';\n",
              "\n",
              "        async function convertToInteractive(key) {\n",
              "          const element = document.querySelector('#df-163d31a5-01dd-4f4a-ae5b-4145ba7543f6');\n",
              "          const dataTable =\n",
              "            await google.colab.kernel.invokeFunction('convertToInteractive',\n",
              "                                                     [key], {});\n",
              "          if (!dataTable) return;\n",
              "\n",
              "          const docLinkHtml = 'Like what you see? Visit the ' +\n",
              "            '<a target=\"_blank\" href=https://colab.research.google.com/notebooks/data_table.ipynb>data table notebook</a>'\n",
              "            + ' to learn more about interactive tables.';\n",
              "          element.innerHTML = '';\n",
              "          dataTable['output_type'] = 'display_data';\n",
              "          await google.colab.output.renderOutput(dataTable, element);\n",
              "          const docLink = document.createElement('div');\n",
              "          docLink.innerHTML = docLinkHtml;\n",
              "          element.appendChild(docLink);\n",
              "        }\n",
              "      </script>\n",
              "    </div>\n",
              "  </div>\n",
              "  "
            ]
          },
          "metadata": {},
          "execution_count": 17
        }
      ]
    },
    {
      "cell_type": "code",
      "source": [
        "#Checking whethere is null value\n",
        "df_1.isnull().sum()"
      ],
      "metadata": {
        "colab": {
          "base_uri": "https://localhost:8080/"
        },
        "id": "tDEgU5kheJM6",
        "outputId": "e239b069-d510-4884-a532-e682b9e60d43"
      },
      "execution_count": 18,
      "outputs": [
        {
          "output_type": "execute_result",
          "data": {
            "text/plain": [
              "username    0\n",
              "tweet       0\n",
              "language    0\n",
              "dtype: int64"
            ]
          },
          "metadata": {},
          "execution_count": 18
        }
      ]
    },
    {
      "cell_type": "code",
      "source": [
        "#Checking how many language tweet are posted\n",
        "df_1.language.value_counts()"
      ],
      "metadata": {
        "colab": {
          "base_uri": "https://localhost:8080/"
        },
        "id": "VC-3nS7LesKh",
        "outputId": "efa53fd1-5cea-4531-bf98-8a2d67ce2eff"
      },
      "execution_count": 19,
      "outputs": [
        {
          "output_type": "execute_result",
          "data": {
            "text/plain": [
              "en     8730\n",
              "it      483\n",
              "pt      298\n",
              "und     167\n",
              "in       52\n",
              "ru       42\n",
              "fr       39\n",
              "es       36\n",
              "ca       25\n",
              "de       18\n",
              "pl       16\n",
              "ar       14\n",
              "tr       13\n",
              "bg        8\n",
              "fi        8\n",
              "nl        7\n",
              "zh        6\n",
              "el        6\n",
              "cs        6\n",
              "th        6\n",
              "uk        5\n",
              "ro        4\n",
              "ja        4\n",
              "hi        3\n",
              "tl        3\n",
              "cy        1\n",
              "no        1\n",
              "sv        1\n",
              "sl        1\n",
              "da        1\n",
              "gu        1\n",
              "kn        1\n",
              "lv        1\n",
              "et        1\n",
              "hu        1\n",
              "Name: language, dtype: int64"
            ]
          },
          "metadata": {},
          "execution_count": 19
        }
      ]
    },
    {
      "cell_type": "code",
      "source": [
        "stemmer = nltk.SnowballStemmer(\"english\")\n",
        "stopword = set(stopwords.words('english'))\n",
        "\n",
        "def clean(text):\n",
        "  text = str(text).lower()\n",
        "  text = re.sub('\\[.*?\\]','',text)\n",
        "  text = re.sub('http?://\\S+|WWW\\.\\S+','',text)\n",
        "  text = re.sub('<.*?>+','',text)\n",
        "  text = re.sub('[%s]'%)"
      ],
      "metadata": {
        "id": "Osncbu3Mffae"
      },
      "execution_count": null,
      "outputs": []
    }
  ]
}